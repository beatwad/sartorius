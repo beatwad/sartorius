{
 "cells": [
  {
   "cell_type": "code",
   "execution_count": 1,
   "metadata": {
    "execution": {
     "iopub.execute_input": "2021-12-08T06:39:05.823859Z",
     "iopub.status.busy": "2021-12-08T06:39:05.823458Z",
     "iopub.status.idle": "2021-12-08T06:39:06.618058Z",
     "shell.execute_reply": "2021-12-08T06:39:06.617189Z",
     "shell.execute_reply.started": "2021-12-08T06:39:05.823814Z"
    }
   },
   "outputs": [
    {
     "data": {
      "text/plain": [
       "<Logger detectron2 (DEBUG)>"
      ]
     },
     "execution_count": 1,
     "metadata": {},
     "output_type": "execute_result"
    }
   ],
   "source": [
    "%config Completer.use_jedi = False # use autocompletion\n",
    "\n",
    "import torch\n",
    "import numpy as np\n",
    "import pandas as pd\n",
    "from tqdm.notebook import tqdm\n",
    "import matplotlib.pyplot as plt\n",
    "\n",
    "import detectron2\n",
    "from pathlib import Path\n",
    "import random, cv2, os\n",
    "import matplotlib.pyplot as plt\n",
    "import numpy as np\n",
    "import pycocotools.mask as mask_util\n",
    "# import some common detectron2 utilities\n",
    "from detectron2 import model_zoo\n",
    "from detectron2.engine import DefaultPredictor, DefaultTrainer\n",
    "from detectron2.config import get_cfg\n",
    "from detectron2.utils.visualizer import Visualizer, ColorMode\n",
    "from detectron2.data import MetadataCatalog, DatasetCatalog\n",
    "from detectron2.data.datasets import register_coco_instances\n",
    "from detectron2.utils.logger import setup_logger\n",
    "from detectron2.evaluation.evaluator import DatasetEvaluator\n",
    "from detectron2.engine import BestCheckpointer\n",
    "from detectron2.checkpoint import DetectionCheckpointer\n",
    "# import PyCOCO tools\n",
    "from pycocotools.coco import COCO\n",
    "import matplotlib.pyplot as plt\n",
    "from pathlib import Path\n",
    "from PIL import Image\n",
    "\n",
    "setup_logger()"
   ]
  },
  {
   "cell_type": "markdown",
   "metadata": {},
   "source": [
    "# Evaluation"
   ]
  },
  {
   "cell_type": "code",
   "execution_count": 6,
   "metadata": {},
   "outputs": [],
   "source": [
    "# use this to unregister datasets\n",
    "# DatasetCatalog.clear()"
   ]
  },
  {
   "cell_type": "code",
   "execution_count": 2,
   "metadata": {
    "execution": {
     "iopub.execute_input": "2021-12-08T06:39:07.448554Z",
     "iopub.status.busy": "2021-12-08T06:39:07.448290Z",
     "iopub.status.idle": "2021-12-08T06:39:20.510965Z",
     "shell.execute_reply": "2021-12-08T06:39:20.510200Z",
     "shell.execute_reply.started": "2021-12-08T06:39:07.448522Z"
    }
   },
   "outputs": [
    {
     "name": "stdout",
     "output_type": "stream",
     "text": [
      "\u001b[32m[12/09 09:58:44 d2.data.datasets.coco]: \u001b[0mLoaded 121 images in COCO format from sartorius-coco-dataset-5-fold-split/annotations_val_fold_2.json\n"
     ]
    }
   ],
   "source": [
    "cfg = get_cfg()\n",
    "cfg.merge_from_file(model_zoo.get_config_file(\"Misc/cascade_mask_rcnn_X_152_32x8d_FPN_IN5k_gn_dconv.yaml\"))\n",
    "# cfg.merge_from_file(model_zoo.get_config_file(\"COCO-InstanceSegmentation/mask_rcnn_R_101_FPN_3x.yaml\"))\n",
    "cfg.INPUT.MASK_FORMAT='bitmask'\n",
    "cfg.MODEL.ROI_HEADS.NUM_CLASSES = 3 \n",
    "cfg.MODEL.WEIGHTS = 'output/model_best_fold_2.pth'  \n",
    "cfg.TEST.DETECTIONS_PER_IMAGE = 1000\n",
    "cfg.MODEL.ROI_HEADS.SCORE_THRESH_TEST = 0.5\n",
    "predictor = DefaultPredictor(cfg)\n",
    "\n",
    "dataDir=Path('sartorius-cell-instance-segmentation')\n",
    "\n",
    "register_coco_instances('sartorius_val',{},'sartorius-coco-dataset-5-fold-split/annotations_val_fold_2.json', dataDir)\n",
    "val_ds = DatasetCatalog.get('sartorius_val')"
   ]
  },
  {
   "cell_type": "markdown",
   "metadata": {},
   "source": [
    "# Hyperparameters grid search"
   ]
  },
  {
   "cell_type": "code",
   "execution_count": 3,
   "metadata": {
    "execution": {
     "iopub.execute_input": "2021-12-08T06:40:31.241933Z",
     "iopub.status.busy": "2021-12-08T06:40:31.241567Z",
     "iopub.status.idle": "2021-12-08T06:41:39.249170Z",
     "shell.execute_reply": "2021-12-08T06:41:39.248485Z",
     "shell.execute_reply.started": "2021-12-08T06:40:31.241897Z"
    },
    "scrolled": false
   },
   "outputs": [],
   "source": [
    "def precision_at(threshold, iou):\n",
    "    matches = iou > threshold\n",
    "    true_positives = np.sum(matches, axis=1) == 1  # Correct objects\n",
    "    false_positives = np.sum(matches, axis=0) == 0  # Missed objects\n",
    "    false_negatives = np.sum(matches, axis=1) == 0  # Extra objects\n",
    "    return np.sum(true_positives), np.sum(false_positives), np.sum(false_negatives)\n",
    "\n",
    "def score(pred, targ, thresholds, pixels):\n",
    "    pred_class = torch.mode(pred['instances'].pred_classes)[0]\n",
    "    # save only masks that fit in threshold\n",
    "    take = pred['instances'].scores >= thresholds[pred_class]\n",
    "    pred_masks = pred['instances'].pred_masks[take]\n",
    "    pred_masks = pred_masks.cpu().numpy()\n",
    "    # save only masks with size more than MIN_PIXELS\n",
    "    res_masks = []\n",
    "    for mask in pred_masks:\n",
    "        if mask.sum() >= pixels[pred_class]: # skip predictions with small area\n",
    "            res_masks.append(mask)\n",
    "    # score the result masks\n",
    "    enc_preds = [mask_util.encode(np.asarray(p, order='F')) for p in res_masks]\n",
    "    enc_targs = list(map(lambda x:x['segmentation'], targ['annotations']))\n",
    "    ious = mask_util.iou(enc_preds, enc_targs, [0]*len(enc_targs))\n",
    "    prec = []\n",
    "    for t in np.arange(0.5, 1.0, 0.05):\n",
    "        tp, fp, fn = precision_at(t, ious)\n",
    "        p = tp / (tp + fp + fn)\n",
    "        prec.append(p)\n",
    "    return np.mean(prec)\n",
    "\n",
    "def score_all(thresholds, pixels):\n",
    "    scores = []\n",
    "    for item in val_ds:\n",
    "        im =  cv2.imread(item['file_name'])\n",
    "        pred = predictor(im)       \n",
    "        sc = score(pred, item, thresholds, pixels)\n",
    "        scores.append(sc)\n",
    "    return np.mean(scores)\n",
    "\n",
    "thresholds = [0.5, 0.5, 0.5]\n",
    "pixels = [70, 75, 70]\n",
    "\n",
    "best_threshs = [(0, 0), (0, 0), (0, 0)]\n",
    "\n",
    "for i in tqdm(range(2, 3)):\n",
    "    best_score = 0\n",
    "    for j in tqdm(np.arange(0.4, 0.75, 0.025)):\n",
    "        thresholds[i] = j\n",
    "        curr_score = score_all(thresholds, pixels)\n",
    "        if curr_score > best_score:\n",
    "            best_score = curr_score\n",
    "            best_threshs[i] = (j, best_score)\n",
    "        print(f'Class number is {i+1}, threshold is {round(j, 2)}, score is {curr_score}')\n",
    "    thresholds[i] = best_threshs[i]\n",
    "    \n",
    "best_pixels = [(0, 0), (0, 0), (0, 0)]\n",
    "thresholds = [i[0] for i in best_threshs]\n",
    "\n",
    "for i in tqdm(range(2, 3)):\n",
    "    best_score = 0\n",
    "    for j in tqdm(np.arange(0, 150, 10)):\n",
    "        pixels[i] = j\n",
    "        curr_score = score_all(thresholds, pixels)\n",
    "        if curr_score > best_score:\n",
    "            best_score = curr_score\n",
    "            best_pixels[i] = (j, best_score)\n",
    "        print(f'Class number is {i+1}, pixel thresh is {round(j, 2)}, score is {curr_score}')\n",
    "    pixels[i] = best_pixels[i]\n",
    "    \n",
    "best_threshs, best_pixels"
   ]
  },
  {
   "cell_type": "markdown",
   "metadata": {},
   "source": [
    "Results of grid search"
   ]
  },
  {
   "cell_type": "code",
   "execution_count": 15,
   "metadata": {
    "scrolled": false
   },
   "outputs": [
    {
     "data": {
      "text/plain": [
       "0.2581540243438446"
      ]
     },
     "execution_count": 15,
     "metadata": {},
     "output_type": "execute_result"
    }
   ],
   "source": [
    "score_all([0.4, 0.3, 0.15], [75, 150, 75])  # LB 276"
   ]
  },
  {
   "cell_type": "code",
   "execution_count": 14,
   "metadata": {},
   "outputs": [
    {
     "data": {
      "text/plain": [
       "0.2865632881481492"
      ]
     },
     "execution_count": 14,
     "metadata": {},
     "output_type": "execute_result"
    }
   ],
   "source": [
    "score_all([0.5, 0.5, 0.5], [0, 0, 0])  # LB 301"
   ]
  },
  {
   "cell_type": "code",
   "execution_count": 12,
   "metadata": {},
   "outputs": [
    {
     "data": {
      "text/plain": [
       "0.28656806796464257"
      ]
     },
     "execution_count": 12,
     "metadata": {},
     "output_type": "execute_result"
    }
   ],
   "source": [
    "score_all([0.5, 0.5, 0.5], [20, 20, 20])  # LB 303"
   ]
  },
  {
   "cell_type": "code",
   "execution_count": 24,
   "metadata": {
    "scrolled": true
   },
   "outputs": [
    {
     "data": {
      "text/plain": [
       "0.2895509120948598"
      ]
     },
     "execution_count": 24,
     "metadata": {},
     "output_type": "execute_result"
    }
   ],
   "source": [
    "score_all([0.5, 0.65, 0.5], [70, 75, 70])  # LB 307"
   ]
  },
  {
   "cell_type": "code",
   "execution_count": 4,
   "metadata": {},
   "outputs": [
    {
     "name": "stderr",
     "output_type": "stream",
     "text": [
      "/home/alex/anaconda3/envs/sartorius/lib/python3.9/site-packages/torch/functional.py:445: UserWarning: torch.meshgrid: in an upcoming release, it will be required to pass the indexing argument. (Triggered internally at  /opt/conda/conda-bld/pytorch_1634272204863/work/aten/src/ATen/native/TensorShape.cpp:2157.)\n",
      "  return _VF.meshgrid(tensors, **kwargs)  # type: ignore[attr-defined]\n"
     ]
    },
    {
     "data": {
      "text/plain": [
       "0.28509407308271445"
      ]
     },
     "execution_count": 4,
     "metadata": {},
     "output_type": "execute_result"
    }
   ],
   "source": [
    "score_all([0.5, 0.675, 0.5], [70, 75, 70])  # LB ?"
   ]
  },
  {
   "cell_type": "code",
   "execution_count": 37,
   "metadata": {
    "scrolled": true
   },
   "outputs": [
    {
     "data": {
      "text/plain": [
       "0.28999276106658767"
      ]
     },
     "execution_count": 37,
     "metadata": {},
     "output_type": "execute_result"
    }
   ],
   "source": [
    "score_all([0.5, 0.575, 0.5], [70, 75, 70]) # LB 305"
   ]
  },
  {
   "cell_type": "markdown",
   "metadata": {},
   "source": [
    "## Lets look at some of the validation files to check if things look reasonable\n",
    "\n",
    "We show predictions on the left and ground truth on the right"
   ]
  },
  {
   "cell_type": "code",
   "execution_count": 9,
   "metadata": {
    "execution": {
     "iopub.execute_input": "2021-12-08T06:44:45.144001Z",
     "iopub.status.busy": "2021-12-08T06:44:45.143362Z",
     "iopub.status.idle": "2021-12-08T06:44:56.225251Z",
     "shell.execute_reply": "2021-12-08T06:44:56.221761Z",
     "shell.execute_reply.started": "2021-12-08T06:44:45.143960Z"
    }
   },
   "outputs": [],
   "source": [
    "cfg.MODEL.ROI_HEADS.SCORE_THRESH_TEST = 0.5   # set a custom testing threshold\n",
    "predictor = DefaultPredictor(cfg)\n",
    "dataset_dicts = DatasetCatalog.get('sartorius_val')\n",
    "outs = []\n",
    "for d in random.sample(dataset_dicts, 3):    \n",
    "    im = cv2.imread(d[\"file_name\"])\n",
    "    outputs = predictor(im)  # format is documented at https://detectron2.readthedocs.io/tutorials/models.html#model-output-format\n",
    "    v = Visualizer(im[:, :, ::-1],\n",
    "                   metadata = MetadataCatalog.get('sartorius_train'), \n",
    "                    \n",
    "                   instance_mode=ColorMode.IMAGE_BW   # remove the colors of unsegmented pixels. This option is only available for segmentation models\n",
    "    )\n",
    "    out_pred = v.draw_instance_predictions(outputs[\"instances\"].to(\"cpu\"))\n",
    "    visualizer = Visualizer(im[:, :, ::-1], metadata=MetadataCatalog.get('sartorius_train'))\n",
    "    out_target = visualizer.draw_dataset_dict(d)\n",
    "    outs.append(out_pred)\n",
    "    outs.append(out_target)\n",
    "_,axs = plt.subplots(len(outs)//2,2,figsize=(40,45))\n",
    "for ax, out in zip(axs.reshape(-1), outs):\n",
    "    ax.imshow(out.get_image()[:, :, ::-1])"
   ]
  }
 ],
 "metadata": {
  "kernelspec": {
   "display_name": "Python 3 (ipykernel)",
   "language": "python",
   "name": "python3"
  },
  "language_info": {
   "codemirror_mode": {
    "name": "ipython",
    "version": 3
   },
   "file_extension": ".py",
   "mimetype": "text/x-python",
   "name": "python",
   "nbconvert_exporter": "python",
   "pygments_lexer": "ipython3",
   "version": "3.9.7"
  }
 },
 "nbformat": 4,
 "nbformat_minor": 4
}
