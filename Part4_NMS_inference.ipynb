{
 "cells": [
  {
   "cell_type": "markdown",
   "metadata": {},
   "source": [
    "# Ensemble NMS - Detectron2 [Inference]"
   ]
  },
  {
   "cell_type": "markdown",
   "metadata": {},
   "source": [
    "### Hi kagglers, This is `Ensemble NMS - Detectron2 [Inference]` notebook.\n",
    "* [Sartorius Segmentation - Detectron2 [training]](https://www.kaggle.com/ammarnassanalhajali/sartorius-segmentation-detectron2-training) \n",
    "* [Sartorius Segmentation - Detectron2 [Inference]](https://www.kaggle.com/ammarnassanalhajali/sartorius-segmentation-detectron2-inference) \n",
    "* [K-fold CrossValidation COCO Dataset Generator](https://www.kaggle.com/ammarnassanalhajali/k-fold-crossvalidation-coco-dataset-generator) \n",
    "\n",
    "\n",
    "### Please if this kernel is useful, <font color='red'>please upvote !!</font>"
   ]
  },
  {
   "cell_type": "markdown",
   "metadata": {},
   "source": [
    "## Other notebooks in this competition \n",
    "- [Sartorius Segmentation - Keras U-Net[Training]](https://www.kaggle.com/ammarnassanalhajali/sartorius-segmentation-keras-u-net-training)\n",
    "- [Sartorius Segmentation - Keras U-Net[Inference]](https://www.kaggle.com/ammarnassanalhajali/sartorius-segmentation-keras-u-net-inference/edit)"
   ]
  },
  {
   "cell_type": "markdown",
   "metadata": {},
   "source": [
    "# Intro\n",
    "Ensembling multiple weaker performing models can help to get the results that you want."
   ]
  },
  {
   "cell_type": "markdown",
   "metadata": {
    "papermill": {
     "duration": 0.01929,
     "end_time": "2021-11-13T20:34:01.303452",
     "exception": false,
     "start_time": "2021-11-13T20:34:01.284162",
     "status": "completed"
    },
    "tags": []
   },
   "source": [
    "## Install and import libraries"
   ]
  },
  {
   "cell_type": "code",
   "execution_count": 1,
   "metadata": {
    "_kg_hide-input": true,
    "_kg_hide-output": true,
    "execution": {
     "iopub.execute_input": "2021-12-10T08:01:54.379349Z",
     "iopub.status.busy": "2021-12-10T08:01:54.379046Z",
     "iopub.status.idle": "2021-12-10T08:05:23.574388Z",
     "shell.execute_reply": "2021-12-10T08:05:23.573394Z",
     "shell.execute_reply.started": "2021-12-10T08:01:54.379271Z"
    },
    "papermill": {
     "duration": 210.322119,
     "end_time": "2021-11-13T20:37:31.701186",
     "exception": false,
     "start_time": "2021-11-13T20:34:01.379067",
     "status": "completed"
    },
    "tags": []
   },
   "outputs": [],
   "source": [
    "# !pip install ../input/detectron-05/whls/pycocotools-2.0.2/dist/pycocotools-2.0.2.tar --no-index --find-links ../input/detectron-05/whls &>/dev/null\n",
    "# !pip install ../input/detectron-05/whls/fvcore-0.1.5.post20211019/fvcore-0.1.5.post20211019 --no-index --find-links ../input/detectron-05/whls &>/dev/null \n",
    "# !pip install ../input/detectron-05/whls/antlr4-python3-runtime-4.8/antlr4-python3-runtime-4.8 --no-index --find-links ../input/detectron-05/whls &>/dev/null \n",
    "# !pip install ../input/detectron-05/whls/detectron2-0.5/detectron2 --no-index --find-links ../input/detectron-05/whls &>/dev/null \n",
    "# !pip install ../input/ensemble-boxes-104/ensemble_boxes-1.0.4/ -f ./ --no-index  &>/dev/null"
   ]
  },
  {
   "cell_type": "code",
   "execution_count": 2,
   "metadata": {
    "execution": {
     "iopub.execute_input": "2021-12-10T08:05:23.578893Z",
     "iopub.status.busy": "2021-12-10T08:05:23.578279Z",
     "iopub.status.idle": "2021-12-10T08:05:25.453432Z",
     "shell.execute_reply": "2021-12-10T08:05:25.452696Z",
     "shell.execute_reply.started": "2021-12-10T08:05:23.578851Z"
    },
    "papermill": {
     "duration": 2.038972,
     "end_time": "2021-11-13T20:37:33.77133",
     "exception": false,
     "start_time": "2021-11-13T20:37:31.732358",
     "status": "completed"
    },
    "tags": []
   },
   "outputs": [
    {
     "name": "stdout",
     "output_type": "stream",
     "text": [
      "GPU is available\n",
      "detectron ver: 0.6\n"
     ]
    }
   ],
   "source": [
    "import os\n",
    "import cv2\n",
    "import json\n",
    "import time\n",
    "import numpy as np\n",
    "import pandas as pd\n",
    "import torch\n",
    "import detectron2\n",
    "from tqdm.auto import tqdm\n",
    "from detectron2 import model_zoo\n",
    "from detectron2.engine import DefaultPredictor\n",
    "from detectron2.config import get_cfg\n",
    "from detectron2.data.datasets import register_coco_instances\n",
    "from detectron2.evaluation import inference_on_dataset\n",
    "from detectron2.evaluation.evaluator import DatasetEvaluator\n",
    "from detectron2.data import DatasetCatalog, build_detection_test_loader\n",
    "import pycocotools.mask as mask_util\n",
    "from PIL import Image\n",
    "import matplotlib.pyplot as plt\n",
    "from fastcore.all import *\n",
    "from ensemble_boxes import *\n",
    "os.environ['CUDA_VISIBLE_DEVICES'] = '0' \n",
    "if torch.cuda.is_available():\n",
    "    DEVICE = torch.device('cuda')\n",
    "    print('GPU is available')\n",
    "else:\n",
    "    DEVICE = torch.device('cpu')\n",
    "    print('CPU is used')\n",
    "print('detectron ver:', detectron2.__version__)"
   ]
  },
  {
   "cell_type": "markdown",
   "metadata": {
    "papermill": {
     "duration": 0.035926,
     "end_time": "2021-11-13T20:37:33.842465",
     "exception": false,
     "start_time": "2021-11-13T20:37:33.806539",
     "status": "completed"
    },
    "tags": []
   },
   "source": [
    "## My Models"
   ]
  },
  {
   "cell_type": "code",
   "execution_count": 3,
   "metadata": {
    "execution": {
     "iopub.execute_input": "2021-12-10T08:05:25.455382Z",
     "iopub.status.busy": "2021-12-10T08:05:25.454927Z",
     "iopub.status.idle": "2021-12-10T08:05:25.462569Z",
     "shell.execute_reply": "2021-12-10T08:05:25.461944Z",
     "shell.execute_reply.started": "2021-12-10T08:05:25.455343Z"
    }
   },
   "outputs": [],
   "source": [
    "best_model=( {'file': 'model_best_fold_1.pth','config_name':'Misc/cascade_mask_rcnn_X_152_32x8d_FPN_IN5k_gn_dconv.yaml', 'LB score': 0.307, 'ths':[0.5, 0.65, 0.5], 'pxls': [70, 75, 70]},\n",
    "             {'file': 'model_best_fold_2.pth','config_name':'Misc/cascade_mask_rcnn_X_152_32x8d_FPN_IN5k_gn_dconv.yaml', 'LB score': 0.315, 'ths':[0.5, 0.575, 0.5], 'pxls': [60, 60, 130]},\n",
    "             {'file': 'model_best_fold_3.pth','config_name':'Misc/cascade_mask_rcnn_X_152_32x8d_FPN_IN5k_gn_dconv.yaml', 'LB score': 0.297, 'ths':[0.5, 0.6, 0.5], 'pxls': [50, 60, 50]},\n",
    "             {'file': 'model_best_fold_4.pth','config_name':'Misc/cascade_mask_rcnn_X_152_32x8d_FPN_IN5k_gn_dconv.yaml', 'LB score': 0.295, 'ths':[0.5, 0.6, 0.5], 'pxls': [50, 50, 60]})"
   ]
  },
  {
   "cell_type": "code",
   "execution_count": 4,
   "metadata": {
    "execution": {
     "iopub.execute_input": "2021-12-10T08:05:58.809683Z",
     "iopub.status.busy": "2021-12-10T08:05:58.809406Z",
     "iopub.status.idle": "2021-12-10T08:06:37.084607Z",
     "shell.execute_reply": "2021-12-10T08:06:37.083042Z",
     "shell.execute_reply.started": "2021-12-10T08:05:58.809636Z"
    },
    "scrolled": true
   },
   "outputs": [
    {
     "name": "stdout",
     "output_type": "stream",
     "text": [
      "all loaded:\n",
      "thresholds: [[0.5, 0.65, 0.5], [0.5, 0.575, 0.5], [0.5, 0.6, 0.5], [0.5, 0.6, 0.5]]\n",
      "models: ['model_best_fold_1.pth', 'model_best_fold_2.pth', 'model_best_fold_3.pth', 'model_best_fold_4.pth']\n"
     ]
    }
   ],
   "source": [
    "#config_name = \"COCO-InstanceSegmentation/mask_rcnn_R_50_FPN_3x.yaml\"\n",
    "mdl_path = \"output\"\n",
    "DATA_PATH = \"sartorius-cell-instance-segmentation\"\n",
    "MODELS = []\n",
    "BEST_MODELS =[]\n",
    "THSS = []\n",
    "PXLS = []\n",
    "ID_TEST = 0\n",
    "SUBM_PATH = f'{DATA_PATH}/test'\n",
    "SINGLE_MODE = False\n",
    "NMS = False\n",
    "WBF = True\n",
    "MIN_PIXELS = [60, 60, 60]\n",
    "IOU_TH = .4\n",
    "for b_m in best_model:\n",
    "    model_name=b_m[\"file\"]\n",
    "    model_ths=b_m[\"ths\"]\n",
    "    model_pxls=b_m[\"pxls\"]\n",
    "    config_name=b_m[\"config_name\"]\n",
    "    BEST_MODELS.append(model_name)\n",
    "    THSS.append(model_ths)\n",
    "    PXLS.append(model_pxls)\n",
    "    cfg = get_cfg()\n",
    "    cfg.merge_from_file(model_zoo.get_config_file(config_name))\n",
    "    cfg.INPUT.MASK_FORMAT = 'bitmask'\n",
    "    cfg.MODEL.ROI_HEADS.NUM_CLASSES = 3 \n",
    "    cfg.MODEL.WEIGHTS = f'{mdl_path}/{model_name}'  \n",
    "    cfg.TEST.DETECTIONS_PER_IMAGE = 1000\n",
    "    MODELS.append(DefaultPredictor(cfg))\n",
    "print(f'all loaded:\\nthresholds: {THSS}\\nmodels: {BEST_MODELS}')"
   ]
  },
  {
   "cell_type": "code",
   "execution_count": 5,
   "metadata": {
    "execution": {
     "iopub.execute_input": "2021-12-10T08:06:37.086560Z",
     "iopub.status.busy": "2021-12-10T08:06:37.086213Z",
     "iopub.status.idle": "2021-12-10T08:06:37.097289Z",
     "shell.execute_reply": "2021-12-10T08:06:37.096538Z",
     "shell.execute_reply.started": "2021-12-10T08:06:37.086521Z"
    }
   },
   "outputs": [
    {
     "data": {
      "text/plain": [
       "[<detectron2.engine.defaults.DefaultPredictor at 0x7ff4f45931c0>,\n",
       " <detectron2.engine.defaults.DefaultPredictor at 0x7ff4f4593220>,\n",
       " <detectron2.engine.defaults.DefaultPredictor at 0x7ff3b0546dc0>,\n",
       " <detectron2.engine.defaults.DefaultPredictor at 0x7ff3b0475e20>]"
      ]
     },
     "execution_count": 5,
     "metadata": {},
     "output_type": "execute_result"
    }
   ],
   "source": [
    "MODELS"
   ]
  },
  {
   "cell_type": "markdown",
   "metadata": {
    "papermill": {
     "duration": 0.032451,
     "end_time": "2021-11-13T20:37:58.41747",
     "exception": false,
     "start_time": "2021-11-13T20:37:58.385019",
     "status": "completed"
    },
    "tags": []
   },
   "source": [
    "## Utils"
   ]
  },
  {
   "cell_type": "code",
   "execution_count": 21,
   "metadata": {
    "execution": {
     "iopub.execute_input": "2021-12-10T08:06:52.670189Z",
     "iopub.status.busy": "2021-12-10T08:06:52.669624Z",
     "iopub.status.idle": "2021-12-10T08:06:52.694854Z",
     "shell.execute_reply": "2021-12-10T08:06:52.694135Z",
     "shell.execute_reply.started": "2021-12-10T08:06:52.670150Z"
    },
    "papermill": {
     "duration": 0.061205,
     "end_time": "2021-11-13T20:37:58.511989",
     "exception": false,
     "start_time": "2021-11-13T20:37:58.450784",
     "status": "completed"
    },
    "tags": []
   },
   "outputs": [],
   "source": [
    "def rle_decode(mask_rle, shape=(520, 704)):\n",
    "    '''\n",
    "    mask_rle: run-length as string formated (start length)\n",
    "    shape: (height,width) of array to return \n",
    "    Returns numpy array, 1 - mask, 0 - background\n",
    "\n",
    "    '''\n",
    "    s = mask_rle.split()\n",
    "    starts, lengths = [np.asarray(x, dtype=int) \n",
    "                       for x in (s[0:][::2], s[1:][::2])]\n",
    "    starts -= 1\n",
    "    ends = starts + lengths\n",
    "    img = np.zeros(shape[0] * shape[1], dtype=np.uint8)\n",
    "    for lo, hi in zip(starts, ends):\n",
    "        img[lo : hi] = 1\n",
    "    return img.reshape(shape)  # Needed to align to RLE direction\n",
    "\n",
    "def rle_encode(img):\n",
    "    '''\n",
    "    img: numpy array, 1 - mask, 0 - background\n",
    "    Returns run length as string formated\n",
    "    \n",
    "    '''\n",
    "    pixels = img.flatten()\n",
    "    pixels = np.concatenate([[0], pixels, [0]])\n",
    "    runs = np.where(pixels[1:] != pixels[:-1])[0] + 1\n",
    "    runs[1::2] -= runs[::2]\n",
    "    return ' '.join(str(x) for x in runs)\n",
    "\n",
    "def get_masks(file_name, path, model, ths, min_pixels):\n",
    "    img = cv2.imread(f'{path}/{file_name}')\n",
    "    output = model(img)\n",
    "    pred_classes = output['instances'].pred_classes.cpu().numpy().tolist()\n",
    "    pred_class = max(set(pred_classes), key=pred_classes.count)\n",
    "    take = output['instances'].scores >= ths[pred_class]\n",
    "    pred_masks = output['instances'].pred_masks[take]\n",
    "    pred_masks = pred_masks.cpu().numpy()\n",
    "    result = []\n",
    "    used = np.zeros(img.shape[:2], dtype=int) \n",
    "    for i, mask in enumerate(pred_masks):\n",
    "        mask = mask * (1 - used)\n",
    "        if mask.sum() >= min_pixels[pred_class]:\n",
    "            used += mask\n",
    "            result.append(rle_encode(mask))\n",
    "    return result\n",
    "\n",
    "def ensemble_preds(file_name, path, models, ths):\n",
    "    img = cv2.imread(f'{path}/{file_name}')\n",
    "    classes = []\n",
    "    scores = []\n",
    "    bboxes = []\n",
    "    masks = []\n",
    "    for i, model in enumerate(models):\n",
    "        output = model(img)\n",
    "        pred_classes = output['instances'].pred_classes.cpu().numpy().tolist()\n",
    "        pred_class = max(set(pred_classes), key=pred_classes.count)\n",
    "        take = output['instances'].scores >= ths[i][pred_class]\n",
    "        classes.extend(output['instances'].pred_classes[take].cpu().numpy().tolist())\n",
    "        scores.extend(output['instances'].scores[take].cpu().numpy().tolist())\n",
    "        bboxes.extend(output['instances'].pred_boxes[take].tensor.cpu().numpy().tolist())\n",
    "        masks.extend(output['instances'].pred_masks[take].cpu().numpy())\n",
    "    assert len(classes) == len(masks) , 'ensemble lenght mismatch'\n",
    "#     scores, classes, bboxes, masks = zip(*sorted(zip(scores, classes, bboxes, masks), reverse=True))\n",
    "    return classes, scores, bboxes, masks\n",
    "\n",
    "def nms_predictions(classes, scores, bboxes, masks, \n",
    "                    iou_th=.5, shape=(520, 704)):\n",
    "    he, wd = shape[0], shape[1]\n",
    "    boxes_list = [[x[0] / wd, x[1] / he, x[2] / wd, x[3] / he]\n",
    "                  for x in bboxes]\n",
    "    scores_list = [x for x in scores]\n",
    "    labels_list = [x for x in classes]\n",
    "    nms_bboxes, nms_scores, nms_classes = nms(\n",
    "        boxes=[boxes_list], \n",
    "        scores=[scores_list], \n",
    "        labels=[labels_list], \n",
    "        weights=None,\n",
    "        iou_thr=iou_th\n",
    "    )\n",
    "    nms_masks = []\n",
    "    for s in nms_scores:\n",
    "        nms_masks.append(masks[scores.index(s)])\n",
    "    nms_scores, nms_classes, nms_masks = zip(*sorted(zip(nms_scores, nms_classes, nms_masks), reverse=True))\n",
    "    return nms_classes, nms_scores, nms_masks\n",
    "\n",
    "def wbf_predictions(classes, scores, bboxes, masks, \n",
    "                    iou_th=.6, shape=(520, 704)):\n",
    "    he, wd = shape[0], shape[1]\n",
    "    boxes_list = [[x[0] / wd, x[1] / he, x[2] / wd, x[3] / he]\n",
    "                  for x in bboxes]\n",
    "    scores_list = [x for x in scores]\n",
    "    labels_list = [x for x in classes]\n",
    "    wbf_bboxes, wbf_scores, wbf_classes = weighted_boxes_fusion(\n",
    "        [boxes_list], \n",
    "        [scores_list], \n",
    "        [labels_list], \n",
    "        weights=None, \n",
    "        iou_thr=iou_th)\n",
    "    wbf_masks = []\n",
    "    print(scores)\n",
    "    print(wbf_scores)\n",
    "#     print(scores)\n",
    "#     print(wbf_scores)\n",
    "    for s in wbf_scores:\n",
    "        wbf_masks.append(masks[scores.index(s)])\n",
    "    wbf_scores, wbf_classes, wbf_masks = zip(*sorted(zip(wbf_scores, wbf_classes, wbf_masks), reverse=True))\n",
    "    return wbf_scores, wbf_classes, wbf_masks\n",
    "\n",
    "def ensemble_get_masks(masks, classes, pxls, shape=(520, 704)):\n",
    "    result = []\n",
    "    pred_class = max(set(classes), key=classes.count)\n",
    "    used = np.zeros(shape, dtype=int) \n",
    "    for i, mask in enumerate(masks):\n",
    "        mask = mask * (1 - used)\n",
    "        if mask.sum() >= pxls[pred_class]:\n",
    "            used += mask\n",
    "            result.append(rle_encode(mask))\n",
    "    return result"
   ]
  },
  {
   "cell_type": "markdown",
   "metadata": {
    "papermill": {
     "duration": 0.032947,
     "end_time": "2021-11-13T20:37:58.578172",
     "exception": false,
     "start_time": "2021-11-13T20:37:58.545225",
     "status": "completed"
    },
    "tags": []
   },
   "source": [
    "## Demo inference"
   ]
  },
  {
   "cell_type": "code",
   "execution_count": 7,
   "metadata": {
    "execution": {
     "iopub.execute_input": "2021-12-10T08:07:06.118417Z",
     "iopub.status.busy": "2021-12-10T08:07:06.118142Z",
     "iopub.status.idle": "2021-12-10T08:07:06.131215Z",
     "shell.execute_reply": "2021-12-10T08:07:06.130076Z",
     "shell.execute_reply.started": "2021-12-10T08:07:06.118385Z"
    },
    "papermill": {
     "duration": 0.045804,
     "end_time": "2021-11-13T20:37:58.656929",
     "exception": false,
     "start_time": "2021-11-13T20:37:58.611125",
     "status": "completed"
    },
    "tags": []
   },
   "outputs": [
    {
     "name": "stdout",
     "output_type": "stream",
     "text": [
      "test images: 3\n"
     ]
    }
   ],
   "source": [
    "test_names = os.listdir(SUBM_PATH)\n",
    "print('test images:', len(test_names))"
   ]
  },
  {
   "cell_type": "code",
   "execution_count": 8,
   "metadata": {
    "scrolled": false
   },
   "outputs": [],
   "source": [
    "def check_nms(model_num, ID_TEST):\n",
    "    encoded_masks_single = get_masks(\n",
    "        test_names[ID_TEST], \n",
    "        path=SUBM_PATH, \n",
    "        model=MODELS[model_num],\n",
    "        ths=THSS[model_num],\n",
    "        min_pixels=PXLS[model_num]\n",
    "    )\n",
    "\n",
    "    classes, scores, bboxes, masks = ensemble_preds(\n",
    "        file_name=test_names[ID_TEST] , \n",
    "        path=SUBM_PATH, \n",
    "        models=MODELS, \n",
    "        ths=THSS\n",
    "    )\n",
    "\n",
    "    if NMS:\n",
    "        classes, scores, masks = nms_predictions(\n",
    "            classes, \n",
    "            scores, \n",
    "            bboxes,\n",
    "            masks, iou_th=IOU_TH\n",
    "        )\n",
    "    elif WBF:\n",
    "        classes, scores, masks = wbf_predictions(\n",
    "            classes, \n",
    "            scores, \n",
    "            bboxes,\n",
    "            masks, iou_th=IOU_TH\n",
    "        )\n",
    "\n",
    "    encoded_masks = ensemble_get_masks(masks, classes, pxls=MIN_PIXELS)\n",
    "\n",
    "    _, axs = plt.subplots(2, 2, figsize=(24, 18))\n",
    "    axs[0][0].imshow(cv2.imread(f'{SUBM_PATH}/{test_names[ID_TEST]}'))\n",
    "    axs[0][0].axis('off')\n",
    "    axs[0][0].set_title(test_names[ID_TEST])\n",
    "    for en_mask in encoded_masks_single:\n",
    "        dec_mask = rle_decode(en_mask)\n",
    "        axs[0][1].imshow(np.ma.masked_where(dec_mask == 0, dec_mask))\n",
    "        axs[0][1].axis('off')\n",
    "        axs[0][1].set_title('single model')\n",
    "    axs[1][0].imshow(cv2.imread(f'{SUBM_PATH}/{test_names[ID_TEST]}'))\n",
    "    axs[1][0].axis('off')\n",
    "    axs[1][0].set_title(test_names[ID_TEST])\n",
    "    for en_mask in encoded_masks:\n",
    "        dec_mask = rle_decode(en_mask)\n",
    "        axs[1][1].imshow(np.ma.masked_where(dec_mask == 0, dec_mask))\n",
    "        axs[1][1].axis('off')\n",
    "        axs[1][1].set_title('ensemble models')\n",
    "    plt.show()"
   ]
  },
  {
   "cell_type": "code",
   "execution_count": 22,
   "metadata": {
    "scrolled": true
   },
   "outputs": [
    {
     "name": "stdout",
     "output_type": "stream",
     "text": [
      "[0.8949677348136902, 0.8645519018173218, 0.8441219329833984, 0.8319516181945801, 0.8315340280532837, 0.8173591494560242, 0.8142169713973999, 0.8138779401779175, 0.8102988004684448, 0.8099700212478638, 0.8093077540397644, 0.8087434768676758, 0.8016619086265564, 0.8002022504806519, 0.7937755584716797, 0.7776166796684265, 0.7641177177429199, 0.7628196477890015, 0.7609291076660156, 0.7569220066070557, 0.7543208003044128, 0.7505199313163757, 0.749475359916687, 0.7304702997207642, 0.7264199256896973, 0.7255896925926208, 0.7255508303642273, 0.725450873374939, 0.7157731056213379, 0.707221508026123, 0.7063484191894531, 0.7039656639099121, 0.7032091021537781, 0.6978151202201843, 0.6951345801353455, 0.685546875, 0.6846374273300171, 0.6845681667327881, 0.6793804168701172, 0.6763367652893066, 0.6720589995384216, 0.6697620153427124, 0.6684169173240662, 0.6682108640670776, 0.6656394600868225, 0.6549009680747986, 0.6437816619873047, 0.6434322595596313, 0.6363779306411743, 0.6212310791015625, 0.620361328125, 0.6191940307617188, 0.6187855005264282, 0.6166642904281616, 0.6115334630012512, 0.6096978187561035, 0.5998961925506592, 0.5965257883071899, 0.5946187376976013, 0.5929818749427795, 0.5919523239135742, 0.5896589159965515, 0.5895316004753113, 0.5874084234237671, 0.5857717394828796, 0.5855507254600525, 0.5831292867660522, 0.5813757181167603, 0.5771083831787109, 0.5712658762931824, 0.5651671886444092, 0.5651310682296753, 0.5555764436721802, 0.555367112159729, 0.5549514889717102, 0.5494234561920166, 0.5434074401855469, 0.5389732122421265, 0.5366330742835999, 0.5336982607841492, 0.5318750739097595, 0.5279815196990967, 0.5268545746803284, 0.5251102447509766, 0.5241810083389282, 0.5201472043991089, 0.5195900201797485, 0.5156561136245728, 0.514589250087738, 0.5129098892211914, 0.5085623860359192, 0.508405327796936, 0.5075334310531616, 0.5055289268493652, 0.5055077075958252, 0.5044037103652954, 0.50115567445755, 0.9287528395652771, 0.8832377195358276, 0.8756381869316101, 0.8748816251754761, 0.8607968091964722, 0.8464896082878113, 0.8387296199798584, 0.8311475515365601, 0.8278061747550964, 0.8193883895874023, 0.8180979490280151, 0.8139208555221558, 0.8120510578155518, 0.8076997995376587, 0.8057054877281189, 0.7994515299797058, 0.7948364615440369, 0.7912644743919373, 0.7901541590690613, 0.787347674369812, 0.7865992784500122, 0.7819350957870483, 0.7807613611221313, 0.7789430618286133, 0.7674621939659119, 0.7662229537963867, 0.7646612524986267, 0.7645024657249451, 0.7633653879165649, 0.7569485902786255, 0.7554941177368164, 0.7540602684020996, 0.7531360387802124, 0.7521924376487732, 0.7483264803886414, 0.7465066313743591, 0.7358731627464294, 0.7346453666687012, 0.732214629650116, 0.7173279523849487, 0.7115060687065125, 0.7094159126281738, 0.7079887390136719, 0.7060386538505554, 0.7050429582595825, 0.7049206495285034, 0.695136547088623, 0.6929734945297241, 0.6922702789306641, 0.6825732588768005, 0.6817838549613953, 0.6784085035324097, 0.6765812635421753, 0.6741334199905396, 0.6736887693405151, 0.6697823405265808, 0.6528858542442322, 0.6503873467445374, 0.6497238278388977, 0.6457029581069946, 0.6455168724060059, 0.6436824798583984, 0.6385437846183777, 0.6369694471359253, 0.6362837553024292, 0.627372682094574, 0.6213418245315552, 0.6192961931228638, 0.619189977645874, 0.6183578372001648, 0.6116831302642822, 0.609435498714447, 0.6063026189804077, 0.606112003326416, 0.6059821844100952, 0.6017212867736816, 0.6016728281974792, 0.6002561450004578, 0.5963125228881836, 0.5950713157653809, 0.592563271522522, 0.586304783821106, 0.581022322177887, 0.5741573572158813, 0.5701647996902466, 0.5662959814071655, 0.560716986656189, 0.5603672862052917, 0.5574007034301758, 0.556481122970581, 0.5558093786239624, 0.5550810098648071, 0.5528240203857422, 0.5526647567749023, 0.5516916513442993, 0.551445484161377, 0.5497095584869385, 0.5462658405303955, 0.5400365591049194, 0.5348036289215088, 0.5312473773956299, 0.5288462042808533, 0.5287309885025024, 0.5280065536499023, 0.5222792029380798, 0.5218245983123779, 0.518909752368927, 0.5186918377876282, 0.5131999850273132, 0.5083341598510742, 0.5074715614318848, 0.5021673440933228, 0.8700370788574219, 0.8500598669052124, 0.8337823748588562, 0.8214499950408936, 0.810584545135498, 0.8098742365837097, 0.8048890829086304, 0.8042604327201843, 0.7999471426010132, 0.7949638366699219, 0.7945458292961121, 0.7933976054191589, 0.790906548500061, 0.7862954139709473, 0.7837042212486267, 0.7685329914093018, 0.7608073949813843, 0.7583240866661072, 0.7575526237487793, 0.7572082877159119, 0.7461928129196167, 0.7414447665214539, 0.7414059638977051, 0.74049973487854, 0.7356675863265991, 0.7338085174560547, 0.7326675653457642, 0.7322309017181396, 0.7294518947601318, 0.7268919944763184, 0.724036693572998, 0.7200962901115417, 0.7198991775512695, 0.7177976369857788, 0.7123744487762451, 0.7049724459648132, 0.7037661075592041, 0.7023209929466248, 0.6985450983047485, 0.6968144774436951, 0.6944805979728699, 0.6841148138046265, 0.6789520978927612, 0.6649130582809448, 0.6647524237632751, 0.6615968346595764, 0.659552812576294, 0.6593742966651917, 0.6576135754585266, 0.6551188230514526, 0.6549879908561707, 0.6540701389312744, 0.6540306806564331, 0.6527743339538574, 0.6472007632255554, 0.6454899907112122, 0.6311085224151611, 0.6303049325942993, 0.6299763917922974, 0.6276516914367676, 0.6248869895935059, 0.6243016123771667, 0.6088098287582397, 0.6075069904327393, 0.6022164821624756, 0.6020392179489136, 0.5938413143157959, 0.5937721133232117, 0.592820405960083, 0.5910729169845581, 0.5886407494544983, 0.584647536277771, 0.5810515284538269, 0.5805656313896179, 0.5752125978469849, 0.5728645920753479, 0.5682222247123718, 0.5658083558082581, 0.5649449229240417, 0.5631760358810425, 0.5631215572357178, 0.5615118741989136, 0.561196506023407, 0.5600640177726746, 0.5523031949996948, 0.5512980818748474, 0.5511782169342041, 0.5493409633636475, 0.5445627570152283, 0.5404908657073975, 0.5395073890686035, 0.539360761642456, 0.5288105607032776, 0.5272510051727295, 0.5220805406570435, 0.518621563911438, 0.5146556496620178, 0.5132303237915039, 0.5118204355239868, 0.5114384293556213, 0.5048518180847168, 0.5029395222663879, 0.5018649101257324, 0.5006095767021179, 0.5004496574401855, 0.5001562833786011, 0.8825464248657227, 0.8514601588249207, 0.8309162855148315, 0.8235346078872681, 0.8221718668937683, 0.821535587310791, 0.8139787912368774, 0.8114584684371948, 0.8057136535644531, 0.8039145469665527, 0.802014946937561, 0.7937657237052917, 0.7916946411132812, 0.7795387506484985, 0.7769038081169128, 0.7748101949691772, 0.7740416526794434, 0.7728773355484009, 0.7659639120101929, 0.7658367156982422, 0.7654857635498047, 0.7647291421890259, 0.7576000094413757, 0.7520022392272949, 0.7464938163757324, 0.7318309545516968, 0.7313095331192017, 0.7287828922271729, 0.7275556325912476, 0.7253146171569824, 0.7200669646263123, 0.7189711332321167, 0.7158956527709961, 0.7140299677848816, 0.7015849351882935, 0.6982707381248474, 0.6976889967918396, 0.6895146369934082, 0.6836146712303162, 0.6827570796012878, 0.6824926137924194, 0.6820809841156006, 0.680757999420166, 0.6777564883232117, 0.6737320423126221, 0.6725546717643738, 0.6684426069259644, 0.6576063632965088, 0.6542167067527771, 0.6474771499633789, 0.6431727409362793, 0.6360467076301575, 0.6344250440597534, 0.6335443258285522, 0.6314475536346436, 0.6246098279953003, 0.6214492321014404, 0.621168315410614, 0.6198317408561707, 0.6171640157699585, 0.6110073328018188, 0.6083521842956543, 0.6053982973098755, 0.6005383729934692, 0.5994221568107605, 0.5979652404785156, 0.5915645360946655, 0.5864403247833252, 0.5842539668083191, 0.5838488340377808, 0.5768470168113708, 0.575465738773346, 0.5750432014465332, 0.5743830800056458, 0.5666055083274841, 0.5653178095817566, 0.5628954172134399, 0.5591616630554199, 0.5557560920715332, 0.5554481148719788, 0.5545742511749268, 0.5451558828353882, 0.5448720455169678, 0.5414077043533325, 0.539338231086731, 0.5356594324111938, 0.5349100232124329, 0.5318526029586792, 0.5306136608123779, 0.5303707122802734, 0.5291828513145447, 0.5267712473869324, 0.5227612257003784, 0.5210117697715759, 0.5124552249908447, 0.5123504400253296, 0.5098532438278198, 0.5055344700813293, 0.5049825310707092, 0.5036600828170776, 0.5029728412628174, 0.5028773546218872]\n",
      "[0.90564966 0.87251377 0.86734891 0.86729449 0.84920812 0.84858692\n",
      " 0.8373878  0.83482295 0.83278596 0.83265817 0.82610166 0.81711149\n",
      " 0.81542343 0.81142908 0.81008649 0.80975044 0.80681628 0.80380726\n",
      " 0.80218005 0.80192679 0.80053169 0.80008668 0.79758954 0.79660863\n",
      " 0.79468131 0.79203093 0.79028857 0.78577113 0.7857604  0.7848233\n",
      " 0.78414702 0.78203243 0.77889174 0.77686787 0.7735216  0.77082348\n",
      " 0.76696867 0.76622295 0.76586556 0.76362759 0.76261514 0.7608791\n",
      " 0.75599623 0.75511056 0.75495744 0.75155741 0.74679834 0.74401146\n",
      " 0.74181414 0.74129456 0.74116826 0.7411316  0.74080795 0.74060643\n",
      " 0.74049973 0.73811758 0.73434013 0.73317409 0.73171413 0.73055923\n",
      " 0.7296797  0.7283498  0.72230756 0.71964914 0.71955442 0.71567893\n",
      " 0.71528471 0.71250957 0.71240222 0.71078932 0.70605838 0.70331395\n",
      " 0.70238465 0.7022683  0.69902337 0.69805443 0.697689   0.6942656\n",
      " 0.69393396 0.68951464 0.68894684 0.68669331 0.68609154 0.68555045\n",
      " 0.68390918 0.68271375 0.68257326 0.67550552 0.67506129 0.67469078\n",
      " 0.67399728 0.67049265 0.66821086 0.66451937 0.65920687 0.65889084\n",
      " 0.65760636 0.65663642 0.65319681 0.65145016 0.64912009 0.64886892\n",
      " 0.64802933 0.64796537 0.64792812 0.64240623 0.64234805 0.64079845\n",
      " 0.64001733 0.63782674 0.637196   0.63604671 0.63516033 0.63455868\n",
      " 0.63370484 0.63240832 0.62997639 0.62976587 0.62796903 0.62765169\n",
      " 0.62515128 0.62475657 0.62123108 0.6198836  0.61835784 0.61530191\n",
      " 0.61468285 0.61447388 0.61086857 0.61085272 0.60936284 0.60750699\n",
      " 0.6074754  0.60673583 0.60618401 0.60600269 0.60598218 0.60581332\n",
      " 0.60266781 0.60054749 0.59993434 0.59989619 0.59730524 0.59507132\n",
      " 0.59471631 0.5935744  0.59282041 0.59262824 0.59230697 0.59223163\n",
      " 0.59156454 0.59102583 0.59062487 0.58977783 0.58892363 0.58577174\n",
      " 0.58535522 0.58263683 0.58237207 0.58187032 0.58184743 0.58137572\n",
      " 0.57838106 0.57438308 0.57400572 0.57300508 0.57090914 0.5701648\n",
      " 0.56903207 0.56853712 0.56629598 0.56385624 0.56334162 0.56317604\n",
      " 0.56316221 0.56311011 0.56151187 0.56071699 0.56067771 0.56036729\n",
      " 0.55968827 0.55580938 0.55508101 0.55457425 0.55360079 0.55282402\n",
      " 0.5518918  0.54970956 0.54934096 0.54690862 0.54688114 0.54626584\n",
      " 0.54498804 0.54487205 0.54456276 0.54446816 0.54444236 0.54416209\n",
      " 0.54390609 0.54340744 0.54049087 0.54003656 0.53950739 0.53936076\n",
      " 0.53480363 0.53202105 0.5318526  0.53061366 0.52941573 0.52918285\n",
      " 0.52881056 0.52208054 0.5218246  0.52101177 0.5201472  0.52008045\n",
      " 0.51890975 0.51869184 0.51862156 0.51827431 0.51619554 0.51565611\n",
      " 0.51544195 0.51465565 0.51319999 0.51245522 0.51182044 0.50985324\n",
      " 0.50936902 0.50856239 0.50840533 0.50833416 0.50747156 0.50552893\n",
      " 0.50485182 0.50297284 0.50293952 0.50216734 0.50115567 0.50060958\n",
      " 0.50044966 0.50015628]\n"
     ]
    },
    {
     "ename": "ValueError",
     "evalue": "0.9056496620178223 is not in list",
     "output_type": "error",
     "traceback": [
      "\u001b[0;31m---------------------------------------------------------------------------\u001b[0m",
      "\u001b[0;31mValueError\u001b[0m                                Traceback (most recent call last)",
      "\u001b[0;32m/tmp/ipykernel_22279/3815961792.py\u001b[0m in \u001b[0;36m<module>\u001b[0;34m\u001b[0m\n\u001b[0;32m----> 1\u001b[0;31m \u001b[0mcheck_nms\u001b[0m\u001b[0;34m(\u001b[0m\u001b[0mmodel_num\u001b[0m\u001b[0;34m=\u001b[0m\u001b[0;36m1\u001b[0m\u001b[0;34m,\u001b[0m \u001b[0mID_TEST\u001b[0m\u001b[0;34m=\u001b[0m\u001b[0;36m0\u001b[0m\u001b[0;34m)\u001b[0m\u001b[0;34m\u001b[0m\u001b[0;34m\u001b[0m\u001b[0m\n\u001b[0m",
      "\u001b[0;32m/tmp/ipykernel_22279/2938903310.py\u001b[0m in \u001b[0;36mcheck_nms\u001b[0;34m(model_num, ID_TEST)\u001b[0m\n\u001b[1;32m     23\u001b[0m         )\n\u001b[1;32m     24\u001b[0m     \u001b[0;32melif\u001b[0m \u001b[0mWBF\u001b[0m\u001b[0;34m:\u001b[0m\u001b[0;34m\u001b[0m\u001b[0;34m\u001b[0m\u001b[0m\n\u001b[0;32m---> 25\u001b[0;31m         classes, scores, masks = wbf_predictions(\n\u001b[0m\u001b[1;32m     26\u001b[0m             \u001b[0mclasses\u001b[0m\u001b[0;34m,\u001b[0m\u001b[0;34m\u001b[0m\u001b[0;34m\u001b[0m\u001b[0m\n\u001b[1;32m     27\u001b[0m             \u001b[0mscores\u001b[0m\u001b[0;34m,\u001b[0m\u001b[0;34m\u001b[0m\u001b[0;34m\u001b[0m\u001b[0m\n",
      "\u001b[0;32m/tmp/ipykernel_22279/4025012802.py\u001b[0m in \u001b[0;36mwbf_predictions\u001b[0;34m(classes, scores, bboxes, masks, iou_th, shape)\u001b[0m\n\u001b[1;32m    103\u001b[0m \u001b[0;31m#     print(wbf_scores)\u001b[0m\u001b[0;34m\u001b[0m\u001b[0;34m\u001b[0m\u001b[0m\n\u001b[1;32m    104\u001b[0m     \u001b[0;32mfor\u001b[0m \u001b[0ms\u001b[0m \u001b[0;32min\u001b[0m \u001b[0mwbf_scores\u001b[0m\u001b[0;34m:\u001b[0m\u001b[0;34m\u001b[0m\u001b[0;34m\u001b[0m\u001b[0m\n\u001b[0;32m--> 105\u001b[0;31m         \u001b[0mwbf_masks\u001b[0m\u001b[0;34m.\u001b[0m\u001b[0mappend\u001b[0m\u001b[0;34m(\u001b[0m\u001b[0mmasks\u001b[0m\u001b[0;34m[\u001b[0m\u001b[0mscores\u001b[0m\u001b[0;34m.\u001b[0m\u001b[0mindex\u001b[0m\u001b[0;34m(\u001b[0m\u001b[0ms\u001b[0m\u001b[0;34m)\u001b[0m\u001b[0;34m]\u001b[0m\u001b[0;34m)\u001b[0m\u001b[0;34m\u001b[0m\u001b[0;34m\u001b[0m\u001b[0m\n\u001b[0m\u001b[1;32m    106\u001b[0m     \u001b[0mwbf_scores\u001b[0m\u001b[0;34m,\u001b[0m \u001b[0mwbf_classes\u001b[0m\u001b[0;34m,\u001b[0m \u001b[0mwbf_masks\u001b[0m \u001b[0;34m=\u001b[0m \u001b[0mzip\u001b[0m\u001b[0;34m(\u001b[0m\u001b[0;34m*\u001b[0m\u001b[0msorted\u001b[0m\u001b[0;34m(\u001b[0m\u001b[0mzip\u001b[0m\u001b[0;34m(\u001b[0m\u001b[0mwbf_scores\u001b[0m\u001b[0;34m,\u001b[0m \u001b[0mwbf_classes\u001b[0m\u001b[0;34m,\u001b[0m \u001b[0mwbf_masks\u001b[0m\u001b[0;34m)\u001b[0m\u001b[0;34m,\u001b[0m \u001b[0mreverse\u001b[0m\u001b[0;34m=\u001b[0m\u001b[0;32mTrue\u001b[0m\u001b[0;34m)\u001b[0m\u001b[0;34m)\u001b[0m\u001b[0;34m\u001b[0m\u001b[0;34m\u001b[0m\u001b[0m\n\u001b[1;32m    107\u001b[0m     \u001b[0;32mreturn\u001b[0m \u001b[0mwbf_scores\u001b[0m\u001b[0;34m,\u001b[0m \u001b[0mwbf_classes\u001b[0m\u001b[0;34m,\u001b[0m \u001b[0mwbf_masks\u001b[0m\u001b[0;34m\u001b[0m\u001b[0;34m\u001b[0m\u001b[0m\n",
      "\u001b[0;31mValueError\u001b[0m: 0.9056496620178223 is not in list"
     ]
    }
   ],
   "source": [
    "check_nms(model_num=1, ID_TEST=0)"
   ]
  },
  {
   "cell_type": "code",
   "execution_count": 19,
   "metadata": {
    "scrolled": false
   },
   "outputs": [],
   "source": [
    "# check_nms(model_num=1, ID_TEST=1)"
   ]
  },
  {
   "cell_type": "code",
   "execution_count": 20,
   "metadata": {
    "scrolled": false
   },
   "outputs": [],
   "source": [
    "# check_nms(model_num=1, ID_TEST=2)"
   ]
  },
  {
   "cell_type": "markdown",
   "metadata": {
    "papermill": {
     "duration": 0.036829,
     "end_time": "2021-11-13T20:38:32.152286",
     "exception": false,
     "start_time": "2021-11-13T20:38:32.115457",
     "status": "completed"
    },
    "tags": []
   },
   "source": [
    "## Inference"
   ]
  },
  {
   "cell_type": "code",
   "execution_count": null,
   "metadata": {
    "execution": {
     "iopub.status.busy": "2021-12-10T08:05:31.292344Z",
     "iopub.status.idle": "2021-12-10T08:05:31.292977Z",
     "shell.execute_reply": "2021-12-10T08:05:31.292770Z",
     "shell.execute_reply.started": "2021-12-10T08:05:31.292747Z"
    },
    "papermill": {
     "duration": 3.513687,
     "end_time": "2021-11-13T20:38:35.703217",
     "exception": false,
     "start_time": "2021-11-13T20:38:32.18953",
     "status": "completed"
    },
    "tags": []
   },
   "outputs": [],
   "source": [
    "subm_ids, subm_masks = [], []\n",
    "for test_name in tqdm(test_names):\n",
    "    if SINGLE_MODE:\n",
    "        encoded_masks = get_masks(\n",
    "            test_name, \n",
    "            path=SUBM_PATH, \n",
    "            model=MODELS[0],\n",
    "            ths=THSS[0],\n",
    "            min_pixels=MIN_PIXELS\n",
    "        )\n",
    "    else:\n",
    "        classes, scores, bboxes, masks = ensemble_preds(\n",
    "            file_name=test_name, \n",
    "            path=SUBM_PATH, \n",
    "            models=MODELS, \n",
    "            ths=THSS\n",
    "        )\n",
    "        if NMS:\n",
    "            classes, scores, masks = nms_predictions(\n",
    "                classes, \n",
    "                scores, \n",
    "                bboxes, \n",
    "                masks, \n",
    "                iou_th=IOU_TH\n",
    "            )\n",
    "        elif WBF:\n",
    "            classes, scores, masks = wbf_predictions(\n",
    "                classes, \n",
    "                scores, \n",
    "                bboxes,\n",
    "                masks,\n",
    "                iou_th=IOU_TH\n",
    "            )\n",
    "        encoded_masks = ensemble_get_masks(\n",
    "            masks, \n",
    "            classes, \n",
    "            pxls=MIN_PIXELS\n",
    "        )\n",
    "    for enc_mask in encoded_masks:\n",
    "        subm_ids.append(test_name[:test_name.find('.')])\n",
    "        subm_masks.append(enc_mask)"
   ]
  },
  {
   "cell_type": "code",
   "execution_count": null,
   "metadata": {
    "execution": {
     "iopub.status.busy": "2021-12-10T08:05:31.294150Z",
     "iopub.status.idle": "2021-12-10T08:05:31.294776Z",
     "shell.execute_reply": "2021-12-10T08:05:31.294552Z",
     "shell.execute_reply.started": "2021-12-10T08:05:31.294528Z"
    },
    "papermill": {
     "duration": 0.063615,
     "end_time": "2021-11-13T20:38:35.80466",
     "exception": false,
     "start_time": "2021-11-13T20:38:35.741045",
     "status": "completed"
    },
    "tags": []
   },
   "outputs": [],
   "source": [
    "pd.DataFrame({\n",
    "    'id': subm_ids, \n",
    "    'predicted': subm_masks\n",
    "}).to_csv('submission.csv', index=False)\n",
    "pd.read_csv('submission.csv').head()"
   ]
  },
  {
   "cell_type": "markdown",
   "metadata": {},
   "source": [
    "# References\n",
    "1. https://www.kaggle.com/vgarshin/detectron2-inference-with-ensemble-and-nms"
   ]
  }
 ],
 "metadata": {
  "kernelspec": {
   "display_name": "Python 3 (ipykernel)",
   "language": "python",
   "name": "python3"
  },
  "language_info": {
   "codemirror_mode": {
    "name": "ipython",
    "version": 3
   },
   "file_extension": ".py",
   "mimetype": "text/x-python",
   "name": "python",
   "nbconvert_exporter": "python",
   "pygments_lexer": "ipython3",
   "version": "3.9.7"
  }
 },
 "nbformat": 4,
 "nbformat_minor": 4
}
